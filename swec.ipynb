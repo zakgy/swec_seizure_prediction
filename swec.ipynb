{
 "cells": [
  {
   "cell_type": "code",
   "execution_count": 1,
   "metadata": {},
   "outputs": [],
   "source": [
    "# TODO:\r\n",
    "# Try a set of channels instead of mean\r\n",
    "# Try different sequence durations\r\n",
    "# Try different PIL\r\n",
    "# Normalize the segments\r\n",
    "# Possibly data augumentation\r\n",
    "#\r\n",
    "# GRAD-CAM\r\n",
    "# data visualization\r\n",
    "# hierarchical model\r\n",
    "# standardization and normalization (either based on training or individually)\r\n",
    "import numpy as np\r\n",
    "import torch\r\n",
    "import torch.nn as nn\r\n",
    "import torch.nn.functional as F\r\n",
    "import shutil\r\n",
    "import os\r\n",
    "import pickle\r\n",
    "from scipy.io import loadmat\r\n",
    "from scipy.signal import stft"
   ]
  },
  {
   "cell_type": "code",
   "execution_count": 2,
   "metadata": {},
   "outputs": [],
   "source": [
    "# CNN class\r\n",
    "# TODO: some hardcoded numbers\r\n",
    "class CNN(nn.Module):\r\n",
    "    def __init__(self, input_channels=1, conv_channels=(3, 10), kernel=(5, 5), dropout=0.0):\r\n",
    "        super().__init__()\r\n",
    "        self.conv1 = nn.Conv2d(input_channels, conv_channels[0], 5)\r\n",
    "        self.pool = nn.MaxPool2d(2, 2)\r\n",
    "        self.conv2 = nn.Conv2d(conv_channels[0], conv_channels[1], 5)\r\n",
    "        self.fc1 = nn.Linear(58*conv_channels[1], 120)\r\n",
    "        self.fc2 = nn.Linear(120, 84)\r\n",
    "        self.fc3 = nn.Linear(84, 2)\r\n",
    "        self.dropout1d = nn.Dropout(p=dropout)\r\n",
    "        self.dropout2d = nn.Dropout2d(p=dropout)\r\n",
    "        self.batchnorm1 = nn.BatchNorm2d(input_channels)\r\n",
    "        self.batchnorm2 = nn.BatchNorm2d(conv_channels[0])\r\n",
    "\r\n",
    "    def forward(self, x):\r\n",
    "        x = self.batchnorm1(x)\r\n",
    "        x = self.pool(F.relu(self.conv1(x)))\r\n",
    "        # print(x.shape)\r\n",
    "        # x = self.dropout2d(x)\r\n",
    "        x = self.batchnorm2(x)\r\n",
    "        x = self.pool(F.relu(self.conv2(x)))\r\n",
    "        # print(x.shape)\r\n",
    "        # x = self.dropout2d(x)\r\n",
    "        x = torch.flatten(x, 1) # flatten all dimensions except batch\r\n",
    "        # print(x.shape)\r\n",
    "        x = F.relu(self.fc1(x))\r\n",
    "        x = self.dropout1d(x)\r\n",
    "        x = F.relu(self.fc2(x))\r\n",
    "        x = self.fc3(x)\r\n",
    "        return x"
   ]
  },
  {
   "cell_type": "code",
   "execution_count": 3,
   "metadata": {},
   "outputs": [],
   "source": [
    "from swec_utils import training_model\r\n",
    "def grid_search(epochs, device, weights, train_loader, val_loader, dtype, kernel_sizes, n_filters, dropouts, save_path, plot_results=False):\r\n",
    "    sensitivity = []\r\n",
    "    specificity = []\r\n",
    "    auc = []\r\n",
    "    f1 = []\r\n",
    "    pr_auc = []\r\n",
    "    for k in kernel_sizes:\r\n",
    "        for f in n_filters:\r\n",
    "            for d in dropouts:\r\n",
    "                print(f\"Training model with kernel size = {k}, filter_sizes = {f}, dropout = {d}.\")\r\n",
    "                model = CNN(input_channels=next(iter(train_loader))[0].shape[1], conv_channels=f, kernel=(k, k), dropout=d)\r\n",
    "                model.to(numpy_to_torch_dtype_dict[dtype])\r\n",
    "                t_res, v_res = training_model(model, epochs, device, weights, train_loader, val_loader, dtype, plot_results=plot_results)\r\n",
    "                sensitivity.append(v_res.sen[-1])\r\n",
    "                specificity.append(v_res.spe[-1])\r\n",
    "                auc.append(v_res.auc[-1])\r\n",
    "                f1.append(v_res.f1[-1])\r\n",
    "                pr_auc.append(v_res.pr_auc[-1])\r\n",
    "                if (save_path):\r\n",
    "                    print(\"Saving model\")\r\n",
    "                    save_path += 'CNN_k' + str(k) + '_f' + str(f[0]) + '_' + str(f[1]) + '_d' + str(d).replace('.', '')\r\n",
    "                    torch.save(model.state_dict(), save_path)\r\n",
    "    \r\n",
    "    return sensitivity, specificity, auc, f1, pr_auc"
   ]
  },
  {
   "cell_type": "code",
   "execution_count": 4,
   "metadata": {},
   "outputs": [],
   "source": [
    "def channel_selection(subject_path, seq_duration, sph, pil, distance, dtype, n_channels, **kwargs):\n",
    "    seed = 0\n",
    "    results_list = []\n",
    "    for channel in range(n_channels):\n",
    "        print(f\"Channel {channel}.\")\n",
    "        segments, labels, fs = load_data(subject_path, seq_duration, sph, pil, distance, channels=[channel], dtype=dtype)\n",
    "\n",
    "        segments_t = np.transpose(segments, (0, 2, 1))\n",
    "        print(segments_t.shape)\n",
    "        print(segments_t.dtype)\n",
    "        Zxx = np.zeros((segments_t.shape[0], segments_t.shape[1], 129, 21), dtype=dtype)\n",
    "\n",
    "        _, _, Zxx = stft(segments_t, fs=fs)\n",
    "\n",
    "        BATCH = 512\n",
    "        EPOCHS = 250\n",
    "        use_cuda = True\n",
    "        device = torch.device(\"cuda\" if use_cuda else \"cpu\")\n",
    "\n",
    "        X, X_test, Y, Y_test = train_test_split(Zxx, labels, test_size=0.2, stratify=labels, random_state=seed)\n",
    "\n",
    "        X_train, X_val, Y_train, Y_val = train_test_split(X, Y, test_size=0.2, stratify=Y, random_state=seed)\n",
    "\n",
    "        weights = torch.tensor(compute_class_weight(class_weight='balanced', classes=np.unique(Y_train), y=Y_train), dtype=dtype, device=device)\n",
    "        # weights = torch.tensor([1, 1], dtype=torch.float32, device=device)\n",
    "\n",
    "        # convert dataset to Dataloader\n",
    "        train_dataset = STFTDataset(X_train, Y_train)\n",
    "        train_loader = torch.utils.data.DataLoader(train_dataset, batch_size=BATCH)\n",
    "        val_dataset = STFTDataset(X_val, Y_val)\n",
    "        val_loader = torch.utils.data.DataLoader(val_dataset, batch_size=BATCH)\n",
    "\n",
    "        results = grid_search(EPOCHS, device, weights, train_loader, val_loader, dtype, **kwargs, save_path='')\n",
    "        results_list.append(results)\n",
    "\n",
    "    return results_list"
   ]
  },
  {
   "cell_type": "code",
   "execution_count": 5,
   "metadata": {},
   "outputs": [],
   "source": [
    "def copy_subject(src, dst):\r\n",
    "    src_files = os.listdir(src)\r\n",
    "    for file_name in src_files:\r\n",
    "        full_file_name = os.path.join(src, file_name)\r\n",
    "        if os.path.isfile(full_file_name):\r\n",
    "            shutil.copy(full_file_name, dst)\r\n",
    "            print(file_name)\r\n",
    "\r\n",
    "subject = 'ID03'\r\n",
    "src = 'D:/research/swec/' + subject\r\n",
    "dst = '../swec/' + subject\r\n",
    "data_path = '../swec/' + subject + '/data.p'\r\n",
    "if (not os.path.exists(data_path)):\r\n",
    "    if (len(os.listdir(dst)) == 0):\r\n",
    "        copy_subject(src, dst)"
   ]
  },
  {
   "cell_type": "code",
   "execution_count": 6,
   "metadata": {},
   "outputs": [
    {
     "name": "stdout",
     "output_type": "stream",
     "text": [
      "Data already processed at ../swec/ID03/data.p\n"
     ]
    }
   ],
   "source": [
    "# 1: 4\r\n",
    "# 2: 7\r\n",
    "# 3: 2\r\n",
    "from swec_utils import load_data\r\n",
    "subject_path = '../swec/' + subject + '/' + subject\r\n",
    "seq_duration = 5\r\n",
    "sph = 300\r\n",
    "pil = 3600\r\n",
    "distance = 3600 * 24 * 2\r\n",
    "\r\n",
    "dtype = np.float16\r\n",
    "\r\n",
    "if (os.path.exists(data_path)):\r\n",
    "    print(f\"Data already processed at {data_path}\")\r\n",
    "    data = pickle.load(open(data_path, 'rb'))\r\n",
    "    Zxx, labels = data\r\n",
    "else:\r\n",
    "    segments, labels, fs = load_data(subject_path, seq_duration, sph, pil, distance, channels=[], dtype=dtype)\r\n",
    "\r\n",
    "    segments_t = np.transpose(segments, (0, 2, 1))\r\n",
    "    print(segments_t.shape)\r\n",
    "    print(segments_t.dtype)\r\n",
    "    Zxx = np.zeros((segments_t.shape[0], segments_t.shape[1], 129, 21), dtype=dtype)\r\n",
    "\r\n",
    "    for i in range(segments_t.shape[1]):\r\n",
    "        print(i)\r\n",
    "        _, _, Zxx[:, i, :] = stft(segments_t[:,i,:], fs=fs)\r\n",
    "    print(Zxx.shape)\r\n",
    "\r\n",
    "    data = (Zxx, labels)\r\n",
    "    pickle.dump(data, open(data_path, 'wb'))"
   ]
  },
  {
   "cell_type": "code",
   "execution_count": 7,
   "metadata": {
    "tags": []
   },
   "outputs": [
    {
     "name": "stdout",
     "output_type": "stream",
     "text": [
      "Training model with kernel size = 7, filter_sizes = (5, 5), dropout = 0.5.\n",
      "Training:\n",
      "\tLoss: 17.0625\n",
      "\tSensitivity: 0.8887683125339121\n",
      "\tSpecificity: 0.822560742096081\n",
      "\tAUC: 0.9258981210044444\n",
      "\tF1 Score: 0.4281793229643184\n",
      "\tPR AUC: 0.5102058000881868\n",
      "Validation:\n",
      "\tLoss: 4.487060546875\n",
      "\tSensitivity: 0.9566160520607375\n",
      "\tSpecificity: 0.7579574468085106\n",
      "\tAUC: 0.934423962708266\n",
      "\tF1 Score: 0.3795180722891566\n",
      "\tPR AUC: 0.509298163780513\n"
     ]
    },
    {
     "data": {
      "image/png": "[encoded data removed]",
      "text/plain": [
       "<Figure size 1080x1080 with 4 Axes>"
      ]
     },
     "metadata": {
      "needs_background": "light"
     },
     "output_type": "display_data"
    }
   ],
   "source": [
    "from swec_utils import STFTDataset, numpy_to_torch_dtype_dict\r\n",
    "from sklearn.model_selection import train_test_split\r\n",
    "from sklearn.utils.class_weight import compute_class_weight\r\n",
    "\r\n",
    "BATCH = 512\r\n",
    "EPOCHS = 2\r\n",
    "use_cuda = True\r\n",
    "device = torch.device(\"cuda\" if use_cuda else \"cpu\")\r\n",
    "\r\n",
    "X, X_test, Y, Y_test = train_test_split(Zxx, labels, test_size=0.2, stratify=labels, random_state=0)\r\n",
    "\r\n",
    "del Zxx, labels\r\n",
    "\r\n",
    "X_train, X_val, Y_train, Y_val = train_test_split(X, Y, test_size=0.2, stratify=Y, random_state=0)\r\n",
    "\r\n",
    "del X, Y\r\n",
    "\r\n",
    "weights = torch.tensor(compute_class_weight(class_weight='balanced', classes=np.unique(Y_train), y=Y_train), dtype=numpy_to_torch_dtype_dict[dtype], device=device)\r\n",
    "\r\n",
    "# convert dataset to Dataloader\r\n",
    "train_dataset = STFTDataset(X_train, Y_train, dtype=dtype)\r\n",
    "train_loader = torch.utils.data.DataLoader(train_dataset, batch_size=BATCH)\r\n",
    "val_dataset = STFTDataset(X_val, Y_val, dtype=dtype)\r\n",
    "val_loader = torch.utils.data.DataLoader(val_dataset, batch_size=BATCH)\r\n",
    "\r\n",
    "save_path = 'models/swec/' + subject + '/'\r\n",
    "save_path = ''\r\n",
    "results = grid_search(EPOCHS, device, weights, train_loader, val_loader, dtype, [7], [(5, 5)], [0.5], save_path=save_path, plot_results=True)"
   ]
  },
  {
   "cell_type": "code",
   "execution_count": 8,
   "metadata": {},
   "outputs": [],
   "source": [
    "from swec_utils import to_numpy\n",
    "\n",
    "# convert dataset to Dataloader\n",
    "test_dataset = STFTDataset(X_test, Y_test, dtype=dtype)\n",
    "test_loader = torch.utils.data.DataLoader(test_dataset, batch_size=BATCH)\n",
    "\n",
    "# retrieve model from save\n",
    "model = CNN(input_channels=next(iter(test_loader))[0].shape[1], kernel=(7, 7), conv_channels=(5, 5), dropout=0.5)\n",
    "path = './models/swec/' + subject + '/CNN_k7_f5_5_d05'\n",
    "model.load_state_dict(torch.load(path))\n",
    "\n",
    "model.to(numpy_to_torch_dtype_dict[dtype])\n",
    "model.to(device)\n",
    "model.eval()\n",
    "\n",
    "pred_list = np.zeros((len(test_loader.dataset), 2))\n",
    "true_list = np.zeros(len(test_loader.dataset))\n",
    "i = 0\n",
    "with torch.no_grad():\n",
    "    for data, target in test_loader:\n",
    "        data, target = data.to(device), target.to(device)\n",
    "\n",
    "        output = model(data)\n",
    "        pred_list[i:i+len(data)] = to_numpy(output)\n",
    "        true_list[i:i+len(data)] = to_numpy(target)\n",
    "        i += len(data)\n",
    "\n",
    "y_true = true_list\n",
    "y_pred = pred_list"
   ]
  },
  {
   "cell_type": "code",
   "execution_count": 9,
   "metadata": {},
   "outputs": [
    {
     "name": "stdout",
     "output_type": "stream",
     "text": [
      "(7920,)\n",
      "(7920, 2)\n",
      "Sensitivity: 0.9236111111111112\n",
      "Specificity: 0.9895152505446623\n",
      "F1 Score: 0.8978902953586498\n",
      "AUC: 0.994097600459937\n",
      "PR AUC: 0.9484664272905107\n"
     ]
    }
   ],
   "source": [
    "from sklearn.metrics import accuracy_score, roc_auc_score, f1_score, roc_curve, precision_recall_curve, confusion_matrix, auc, average_precision_score, plot_precision_recall_curve\n",
    "import numpy as np\n",
    "import matplotlib.pyplot as plt\n",
    "from swec_utils import evaluate_performance\n",
    "\n",
    "print(y_true.shape)\n",
    "print(y_pred.shape)\n",
    "\n",
    "sensitivity, specificity, roc_auc, f1_score, pr_auc = evaluate_performance(y_pred, y_true)\n",
    "\n",
    "print(\"Sensitivity: \" + str(sensitivity))\n",
    "print(\"Specificity: \" + str(specificity))\n",
    "print(\"F1 Score: \" + str(f1_score))\n",
    "print(\"AUC: \" + str(roc_auc))\n",
    "print(\"PR AUC: \" + str(pr_auc))"
   ]
  },
  {
   "cell_type": "code",
   "execution_count": 10,
   "metadata": {},
   "outputs": [
    {
     "name": "stdout",
     "output_type": "stream",
     "text": [
      "[[  0.988   16.34   -21.84   ...  37.34    -3.68   -15.29  ]\n",
      " [ -9.44    57.78   -17.05   ...  -5.93    -0.6284 -14.836 ]\n",
      " [-12.36    25.86     3.166  ...   4.414   -0.3167 -16.02  ]\n",
      " ...\n",
      " [ -3.797   43.9     -6.848  ... -11.445  -21.38    17.77  ]\n",
      " [-11.016   26.75    14.62   ...   1.908  -23.77     7.527 ]\n",
      " [-10.63    17.4     -6.414  ...  24.7    -27.86     3.205 ]]\n",
      "[[-1.116e-01 -1.853e-04  5.794e-05 ... -4.295e-03  4.210e-04  1.746e-01]\n",
      " [-1.301e-01  1.699e-03  4.706e-04 ... -2.220e-04  4.833e-04  1.359e-01]\n",
      " [-1.001e-01  3.642e-05  9.209e-05 ... -5.217e-04 -1.694e-04  2.225e-01]\n",
      " ...\n",
      " [-2.209e-01 -6.490e-04 -7.689e-06 ...  2.325e-04 -1.233e-04 -1.970e-01]\n",
      " [-3.499e-01 -9.851e-04  1.098e-03 ...  3.655e-04 -1.273e-03 -2.343e-01]\n",
      " [-2.493e-01  3.164e-04  2.067e-04 ... -9.098e-04 -9.918e-04 -7.043e-02]]\n",
      "[[-0.87    1.188  -3.086  ... -2.9    -0.6772  0.696 ]\n",
      " [ 1.65   -1.995  -3.168  ... -1.017   1.211  -0.4421]\n",
      " [ 2.23   -0.729   0.622  ... -2.027   1.232  -0.1957]\n",
      " ...\n",
      " [-0.848   2.396   2.516  ...  0.8843 -3.705  -4.945 ]\n",
      " [-0.5796  3.646   0.2397 ...  2.082  -2.973  -1.955 ]\n",
      " [ 0.6006  4.375  -1.849  ...  0.2117 -3.02   -1.143 ]]\n",
      "[[-3.0289e-02  2.0075e-04 -1.1671e-04 ...  2.7251e-04  6.3002e-05\n",
      "   2.7527e-02]\n",
      " [-6.2317e-02 -2.1672e-04 -5.1260e-05 ...  1.3971e-04  1.1981e-04\n",
      "   4.3854e-02]\n",
      " [-3.8910e-02 -1.9181e-04 -3.7289e-04 ... -1.3590e-04 -6.6817e-05\n",
      "   5.4169e-02]\n",
      " ...\n",
      " [ 1.3269e-01 -2.5034e-05 -2.1315e-04 ...  4.3058e-04  7.7486e-05\n",
      "  -1.7114e-01]\n",
      " [ 2.4902e-02  1.2612e-04  2.1577e-05 ...  3.2449e-04  2.4939e-04\n",
      "  -1.2274e-01]\n",
      " [-5.7259e-03  1.6892e-04 -1.1718e-04 ...  1.0920e-04 -6.9439e-05\n",
      "  -1.0742e-01]]\n",
      "461\n"
     ]
    }
   ],
   "source": [
    "print(X_val[0,:,0])\n",
    "print(X_val[0,:,-1])\n",
    "print(X_val[-1,:,0])\n",
    "print(X_val[-1,:,-1])\n",
    "print(np.count_nonzero(Y_val == 1))"
   ]
  },
  {
   "cell_type": "code",
   "execution_count": 11,
   "metadata": {},
   "outputs": [
    {
     "name": "stdout",
     "output_type": "stream",
     "text": [
      "[[ 9.3906e+00  7.7500e+00 -3.6719e+01 ...  1.4328e+01  1.8188e+01\n",
      "   5.6289e+00]\n",
      " [ 4.2188e+00  9.8828e+00 -7.3398e+00 ...  4.7656e+01  5.2148e+00\n",
      "  -2.8562e+01]\n",
      " [ 3.9648e+00 -3.0508e+00 -6.4414e+00 ...  8.8828e+00 -5.3027e-01\n",
      "  -1.5086e+01]\n",
      " ...\n",
      " [-9.8047e+00  2.0156e+01 -4.0438e+01 ... -3.5137e+00 -5.5234e+00\n",
      "   5.2094e-02]\n",
      " [-2.2062e+01  2.5594e+01  1.1055e+01 ...  1.5188e+01 -9.4766e+00\n",
      "   7.7266e+00]\n",
      " [ 1.9326e+00  5.4188e+01  2.5531e+01 ... -4.4336e+00 -6.0273e+00\n",
      "   1.4195e+01]]\n",
      "[[ 1.527e-01 -1.231e-04 -8.769e-04 ... -7.033e-05 -4.001e-04  3.091e-02]\n",
      " [ 1.954e-01 -4.631e-05  2.596e-04 ...  1.808e-04 -6.003e-04  2.024e-01]\n",
      " [ 5.270e-02 -2.539e-04 -1.124e-03 ... -4.864e-04  1.333e-04  1.121e-01]\n",
      " ...\n",
      " [ 4.730e-02  1.020e-03 -4.969e-04 ...  6.413e-04  1.321e-03  6.378e-02]\n",
      " [-6.970e-02  4.201e-04 -5.717e-04 ...  4.437e-04  6.781e-04 -7.697e-02]\n",
      " [-1.571e-01 -1.250e-03 -6.394e-04 ...  1.786e-04  4.125e-04 -1.810e-01]]\n"
     ]
    }
   ],
   "source": [
    "print(X_val[np.where(Y_val == 1)[0][0],:,0])\n",
    "print(X_val[np.where(Y_val == 1)[0][0],:,-1])"
   ]
  },
  {
   "cell_type": "code",
   "execution_count": null,
   "metadata": {},
   "outputs": [],
   "source": []
  }
 ],
 "metadata": {
  "interpreter": {
   "hash": "d82368bffa793200a131ac8e557b008ccb2806dd7ba8623e02f987c04e882c79"
  },
  "kernelspec": {
   "display_name": "Python 3.8.5 64-bit ('base': conda)",
   "name": "python3"
  },
  "language_info": {
   "codemirror_mode": {
    "name": "ipython",
    "version": 3
   },
   "file_extension": ".py",
   "mimetype": "text/x-python",
   "name": "python",
   "nbconvert_exporter": "python",
   "pygments_lexer": "ipython3",
   "version": "3.8.5"
  },
  "orig_nbformat": 2
 },
 "nbformat": 4,
 "nbformat_minor": 2
}